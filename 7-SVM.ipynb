{
 "cells": [
  {
   "cell_type": "markdown",
   "id": "c4156590-1b8d-4e45-a672-785b46cf3a3d",
   "metadata": {
    "tags": []
   },
   "source": [
    "# Titanic Veri Seti\n"
   ]
  },
  {
   "cell_type": "code",
   "execution_count": 90,
   "id": "ab29b99e-ef30-4da9-a301-14492bf88598",
   "metadata": {},
   "outputs": [],
   "source": [
    "import pandas as pd\n",
    "import numpy as np\n",
    "import seaborn as sns\n",
    "import matplotlib.pyplot as plt"
   ]
  },
  {
   "cell_type": "code",
   "execution_count": 91,
   "id": "5d3d6994-e6b4-4aa7-9523-b2c61d86c08c",
   "metadata": {},
   "outputs": [],
   "source": [
    "df=pd.read_csv(\"C:/Users/HP/traintıtanıc.csv\")\n",
    "data=df.copy()"
   ]
  },
  {
   "cell_type": "code",
   "execution_count": 92,
   "id": "5a79238b-47b0-4cb8-ba26-fb102f4904e8",
   "metadata": {},
   "outputs": [
    {
     "data": {
      "text/html": [
       "<div>\n",
       "<style scoped>\n",
       "    .dataframe tbody tr th:only-of-type {\n",
       "        vertical-align: middle;\n",
       "    }\n",
       "\n",
       "    .dataframe tbody tr th {\n",
       "        vertical-align: top;\n",
       "    }\n",
       "\n",
       "    .dataframe thead th {\n",
       "        text-align: right;\n",
       "    }\n",
       "</style>\n",
       "<table border=\"1\" class=\"dataframe\">\n",
       "  <thead>\n",
       "    <tr style=\"text-align: right;\">\n",
       "      <th></th>\n",
       "      <th>PassengerId</th>\n",
       "      <th>Survived</th>\n",
       "      <th>Pclass</th>\n",
       "      <th>Name</th>\n",
       "      <th>Sex</th>\n",
       "      <th>Age</th>\n",
       "      <th>SibSp</th>\n",
       "      <th>Parch</th>\n",
       "      <th>Ticket</th>\n",
       "      <th>Fare</th>\n",
       "      <th>Cabin</th>\n",
       "      <th>Embarked</th>\n",
       "    </tr>\n",
       "  </thead>\n",
       "  <tbody>\n",
       "    <tr>\n",
       "      <th>0</th>\n",
       "      <td>1</td>\n",
       "      <td>0</td>\n",
       "      <td>3</td>\n",
       "      <td>Braund, Mr. Owen Harris</td>\n",
       "      <td>male</td>\n",
       "      <td>22.0</td>\n",
       "      <td>1</td>\n",
       "      <td>0</td>\n",
       "      <td>A/5 21171</td>\n",
       "      <td>7.2500</td>\n",
       "      <td>NaN</td>\n",
       "      <td>S</td>\n",
       "    </tr>\n",
       "    <tr>\n",
       "      <th>1</th>\n",
       "      <td>2</td>\n",
       "      <td>1</td>\n",
       "      <td>1</td>\n",
       "      <td>Cumings, Mrs. John Bradley (Florence Briggs Th...</td>\n",
       "      <td>female</td>\n",
       "      <td>38.0</td>\n",
       "      <td>1</td>\n",
       "      <td>0</td>\n",
       "      <td>PC 17599</td>\n",
       "      <td>71.2833</td>\n",
       "      <td>C85</td>\n",
       "      <td>C</td>\n",
       "    </tr>\n",
       "    <tr>\n",
       "      <th>2</th>\n",
       "      <td>3</td>\n",
       "      <td>1</td>\n",
       "      <td>3</td>\n",
       "      <td>Heikkinen, Miss. Laina</td>\n",
       "      <td>female</td>\n",
       "      <td>26.0</td>\n",
       "      <td>0</td>\n",
       "      <td>0</td>\n",
       "      <td>STON/O2. 3101282</td>\n",
       "      <td>7.9250</td>\n",
       "      <td>NaN</td>\n",
       "      <td>S</td>\n",
       "    </tr>\n",
       "    <tr>\n",
       "      <th>3</th>\n",
       "      <td>4</td>\n",
       "      <td>1</td>\n",
       "      <td>1</td>\n",
       "      <td>Futrelle, Mrs. Jacques Heath (Lily May Peel)</td>\n",
       "      <td>female</td>\n",
       "      <td>35.0</td>\n",
       "      <td>1</td>\n",
       "      <td>0</td>\n",
       "      <td>113803</td>\n",
       "      <td>53.1000</td>\n",
       "      <td>C123</td>\n",
       "      <td>S</td>\n",
       "    </tr>\n",
       "    <tr>\n",
       "      <th>4</th>\n",
       "      <td>5</td>\n",
       "      <td>0</td>\n",
       "      <td>3</td>\n",
       "      <td>Allen, Mr. William Henry</td>\n",
       "      <td>male</td>\n",
       "      <td>35.0</td>\n",
       "      <td>0</td>\n",
       "      <td>0</td>\n",
       "      <td>373450</td>\n",
       "      <td>8.0500</td>\n",
       "      <td>NaN</td>\n",
       "      <td>S</td>\n",
       "    </tr>\n",
       "  </tbody>\n",
       "</table>\n",
       "</div>"
      ],
      "text/plain": [
       "   PassengerId  Survived  Pclass  \\\n",
       "0            1         0       3   \n",
       "1            2         1       1   \n",
       "2            3         1       3   \n",
       "3            4         1       1   \n",
       "4            5         0       3   \n",
       "\n",
       "                                                Name     Sex   Age  SibSp  \\\n",
       "0                            Braund, Mr. Owen Harris    male  22.0      1   \n",
       "1  Cumings, Mrs. John Bradley (Florence Briggs Th...  female  38.0      1   \n",
       "2                             Heikkinen, Miss. Laina  female  26.0      0   \n",
       "3       Futrelle, Mrs. Jacques Heath (Lily May Peel)  female  35.0      1   \n",
       "4                           Allen, Mr. William Henry    male  35.0      0   \n",
       "\n",
       "   Parch            Ticket     Fare Cabin Embarked  \n",
       "0      0         A/5 21171   7.2500   NaN        S  \n",
       "1      0          PC 17599  71.2833   C85        C  \n",
       "2      0  STON/O2. 3101282   7.9250   NaN        S  \n",
       "3      0            113803  53.1000  C123        S  \n",
       "4      0            373450   8.0500   NaN        S  "
      ]
     },
     "execution_count": 92,
     "metadata": {},
     "output_type": "execute_result"
    }
   ],
   "source": [
    "data.head()"
   ]
  },
  {
   "cell_type": "markdown",
   "id": "f93a035f-d00d-4755-9145-4eed3f52fc3d",
   "metadata": {},
   "source": [
    "* survived : hayatta kalma durumu (0 = olmus, 1=hayatta)\n",
    "* pclass : Bilet sınıfı (1= iyi , 2=orta, 3= normal)\n",
    "* name : yolcu isimleri\n",
    "* sex : cinsiyet (F, M)\n",
    "* age : yas\n",
    "* sibsp : gemideki  kardes/es sayısı\n",
    "* parch : ebevyn/cocuk sayısı \n",
    "* ticket : bilet numarası\n",
    "* fare : yolcu ücreti\n",
    "* Cabin : kabin no \n",
    "* Embarked : gemi limanları (C = Cherbourg, Q = Queenstown, S = Southampton)\n",
    "\n",
    "Veride eksik değerler olduğu görülmekte ayrıca bazı degiskenlerin araştırmanın doğrultusunda olmadığı ve sibsp ve parch değişkenlerinin\n",
    "aynı durumu anlattığı, değişken açıklamalarından anlaşılmakta bu yüzden bu iki değişken arasında ilişki olabileceğini düşünüyorum.\n"
   ]
  },
  {
   "cell_type": "code",
   "execution_count": 93,
   "id": "08fd68dd-f1a5-4baa-a35b-88c726bbdddd",
   "metadata": {},
   "outputs": [
    {
     "data": {
      "text/plain": [
       "(891, 12)"
      ]
     },
     "execution_count": 93,
     "metadata": {},
     "output_type": "execute_result"
    }
   ],
   "source": [
    "data.shape #891 gözlem birimi, 12 degısken"
   ]
  },
  {
   "cell_type": "code",
   "execution_count": 94,
   "id": "25c904cb-5f74-470e-8dcf-04c614298d1a",
   "metadata": {
    "tags": []
   },
   "outputs": [
    {
     "data": {
      "text/plain": [
       "PassengerId      int64\n",
       "Survived         int64\n",
       "Pclass           int64\n",
       "Name            object\n",
       "Sex             object\n",
       "Age            float64\n",
       "SibSp            int64\n",
       "Parch            int64\n",
       "Ticket          object\n",
       "Fare           float64\n",
       "Cabin           object\n",
       "Embarked        object\n",
       "dtype: object"
      ]
     },
     "execution_count": 94,
     "metadata": {},
     "output_type": "execute_result"
    }
   ],
   "source": [
    "data.dtypes"
   ]
  },
  {
   "cell_type": "code",
   "execution_count": 95,
   "id": "75303ee3-aa14-4e3a-9641-a6718411a7a4",
   "metadata": {},
   "outputs": [],
   "source": [
    "data = data.astype({\"Survived\": \"category\", \"Pclass\": \"object\"})\n",
    "data = data.astype({\"Name\": \"category\", \"Sex\": \"category\"})\n",
    "data = data.astype({\"Ticket\": \"category\", \"Cabin\":\"category\"})\n",
    "data = data.astype({\"Embarked\": \"category\"})"
   ]
  },
  {
   "cell_type": "code",
   "execution_count": 96,
   "id": "6c0ada0a-e8dd-4f38-af09-3bdb02e04579",
   "metadata": {},
   "outputs": [
    {
     "data": {
      "text/plain": [
       "PassengerId       int64\n",
       "Survived       category\n",
       "Pclass           object\n",
       "Name           category\n",
       "Sex            category\n",
       "Age             float64\n",
       "SibSp             int64\n",
       "Parch             int64\n",
       "Ticket         category\n",
       "Fare            float64\n",
       "Cabin          category\n",
       "Embarked       category\n",
       "dtype: object"
      ]
     },
     "execution_count": 96,
     "metadata": {},
     "output_type": "execute_result"
    }
   ],
   "source": [
    "data.dtypes"
   ]
  },
  {
   "cell_type": "markdown",
   "id": "faa0953c-eb1d-4a07-8010-840eb1bd7faf",
   "metadata": {
    "tags": []
   },
   "source": [
    "# Gereksiz Degısken Cıkarımı"
   ]
  },
  {
   "cell_type": "code",
   "execution_count": 97,
   "id": "8442854a-710f-40cd-a5bf-adac92ab0775",
   "metadata": {},
   "outputs": [],
   "source": [
    "data.drop(\"PassengerId\", axis=1, inplace=True)"
   ]
  },
  {
   "cell_type": "code",
   "execution_count": 98,
   "id": "28129fc6-d6ab-40a7-b323-96afb2d5bd5a",
   "metadata": {},
   "outputs": [],
   "source": [
    "data.drop(\"Name\", axis=1, inplace=True)"
   ]
  },
  {
   "cell_type": "code",
   "execution_count": 99,
   "id": "577b9868-6271-4d35-ac3f-8b369f8490ac",
   "metadata": {},
   "outputs": [],
   "source": [
    "data.drop(\"Ticket\", axis=1, inplace=True)"
   ]
  },
  {
   "cell_type": "code",
   "execution_count": 100,
   "id": "2de1997c-8ea4-4f87-beae-1de1335ea10a",
   "metadata": {},
   "outputs": [
    {
     "data": {
      "text/html": [
       "<div>\n",
       "<style scoped>\n",
       "    .dataframe tbody tr th:only-of-type {\n",
       "        vertical-align: middle;\n",
       "    }\n",
       "\n",
       "    .dataframe tbody tr th {\n",
       "        vertical-align: top;\n",
       "    }\n",
       "\n",
       "    .dataframe thead th {\n",
       "        text-align: right;\n",
       "    }\n",
       "</style>\n",
       "<table border=\"1\" class=\"dataframe\">\n",
       "  <thead>\n",
       "    <tr style=\"text-align: right;\">\n",
       "      <th></th>\n",
       "      <th>Survived</th>\n",
       "      <th>Pclass</th>\n",
       "      <th>Sex</th>\n",
       "      <th>Age</th>\n",
       "      <th>SibSp</th>\n",
       "      <th>Parch</th>\n",
       "      <th>Fare</th>\n",
       "      <th>Cabin</th>\n",
       "      <th>Embarked</th>\n",
       "    </tr>\n",
       "  </thead>\n",
       "  <tbody>\n",
       "    <tr>\n",
       "      <th>0</th>\n",
       "      <td>0</td>\n",
       "      <td>3</td>\n",
       "      <td>male</td>\n",
       "      <td>22.0</td>\n",
       "      <td>1</td>\n",
       "      <td>0</td>\n",
       "      <td>7.2500</td>\n",
       "      <td>NaN</td>\n",
       "      <td>S</td>\n",
       "    </tr>\n",
       "    <tr>\n",
       "      <th>1</th>\n",
       "      <td>1</td>\n",
       "      <td>1</td>\n",
       "      <td>female</td>\n",
       "      <td>38.0</td>\n",
       "      <td>1</td>\n",
       "      <td>0</td>\n",
       "      <td>71.2833</td>\n",
       "      <td>C85</td>\n",
       "      <td>C</td>\n",
       "    </tr>\n",
       "    <tr>\n",
       "      <th>2</th>\n",
       "      <td>1</td>\n",
       "      <td>3</td>\n",
       "      <td>female</td>\n",
       "      <td>26.0</td>\n",
       "      <td>0</td>\n",
       "      <td>0</td>\n",
       "      <td>7.9250</td>\n",
       "      <td>NaN</td>\n",
       "      <td>S</td>\n",
       "    </tr>\n",
       "    <tr>\n",
       "      <th>3</th>\n",
       "      <td>1</td>\n",
       "      <td>1</td>\n",
       "      <td>female</td>\n",
       "      <td>35.0</td>\n",
       "      <td>1</td>\n",
       "      <td>0</td>\n",
       "      <td>53.1000</td>\n",
       "      <td>C123</td>\n",
       "      <td>S</td>\n",
       "    </tr>\n",
       "    <tr>\n",
       "      <th>4</th>\n",
       "      <td>0</td>\n",
       "      <td>3</td>\n",
       "      <td>male</td>\n",
       "      <td>35.0</td>\n",
       "      <td>0</td>\n",
       "      <td>0</td>\n",
       "      <td>8.0500</td>\n",
       "      <td>NaN</td>\n",
       "      <td>S</td>\n",
       "    </tr>\n",
       "  </tbody>\n",
       "</table>\n",
       "</div>"
      ],
      "text/plain": [
       "  Survived Pclass     Sex   Age  SibSp  Parch     Fare Cabin Embarked\n",
       "0        0      3    male  22.0      1      0   7.2500   NaN        S\n",
       "1        1      1  female  38.0      1      0  71.2833   C85        C\n",
       "2        1      3  female  26.0      0      0   7.9250   NaN        S\n",
       "3        1      1  female  35.0      1      0  53.1000  C123        S\n",
       "4        0      3    male  35.0      0      0   8.0500   NaN        S"
      ]
     },
     "execution_count": 100,
     "metadata": {},
     "output_type": "execute_result"
    }
   ],
   "source": [
    "data.head()"
   ]
  },
  {
   "cell_type": "code",
   "execution_count": 101,
   "id": "a2ae4df8-15eb-4e89-9e4f-2960d8f8439f",
   "metadata": {},
   "outputs": [
    {
     "data": {
      "text/plain": [
       "Survived    category\n",
       "Pclass        object\n",
       "Sex         category\n",
       "Age          float64\n",
       "SibSp          int64\n",
       "Parch          int64\n",
       "Fare         float64\n",
       "Cabin       category\n",
       "Embarked    category\n",
       "dtype: object"
      ]
     },
     "execution_count": 101,
     "metadata": {},
     "output_type": "execute_result"
    }
   ],
   "source": [
    "data.dtypes"
   ]
  },
  {
   "cell_type": "code",
   "execution_count": 102,
   "id": "efaa72f7-aa66-4b35-8cd4-579adb7549c5",
   "metadata": {},
   "outputs": [
    {
     "data": {
      "text/html": [
       "<div>\n",
       "<style scoped>\n",
       "    .dataframe tbody tr th:only-of-type {\n",
       "        vertical-align: middle;\n",
       "    }\n",
       "\n",
       "    .dataframe tbody tr th {\n",
       "        vertical-align: top;\n",
       "    }\n",
       "\n",
       "    .dataframe thead th {\n",
       "        text-align: right;\n",
       "    }\n",
       "</style>\n",
       "<table border=\"1\" class=\"dataframe\">\n",
       "  <thead>\n",
       "    <tr style=\"text-align: right;\">\n",
       "      <th></th>\n",
       "      <th>Age</th>\n",
       "      <th>SibSp</th>\n",
       "      <th>Parch</th>\n",
       "      <th>Fare</th>\n",
       "    </tr>\n",
       "  </thead>\n",
       "  <tbody>\n",
       "    <tr>\n",
       "      <th>Age</th>\n",
       "      <td>1.000000</td>\n",
       "      <td>-0.308247</td>\n",
       "      <td>-0.189119</td>\n",
       "      <td>0.096067</td>\n",
       "    </tr>\n",
       "    <tr>\n",
       "      <th>SibSp</th>\n",
       "      <td>-0.308247</td>\n",
       "      <td>1.000000</td>\n",
       "      <td>0.414838</td>\n",
       "      <td>0.159651</td>\n",
       "    </tr>\n",
       "    <tr>\n",
       "      <th>Parch</th>\n",
       "      <td>-0.189119</td>\n",
       "      <td>0.414838</td>\n",
       "      <td>1.000000</td>\n",
       "      <td>0.216225</td>\n",
       "    </tr>\n",
       "    <tr>\n",
       "      <th>Fare</th>\n",
       "      <td>0.096067</td>\n",
       "      <td>0.159651</td>\n",
       "      <td>0.216225</td>\n",
       "      <td>1.000000</td>\n",
       "    </tr>\n",
       "  </tbody>\n",
       "</table>\n",
       "</div>"
      ],
      "text/plain": [
       "            Age     SibSp     Parch      Fare\n",
       "Age    1.000000 -0.308247 -0.189119  0.096067\n",
       "SibSp -0.308247  1.000000  0.414838  0.159651\n",
       "Parch -0.189119  0.414838  1.000000  0.216225\n",
       "Fare   0.096067  0.159651  0.216225  1.000000"
      ]
     },
     "execution_count": 102,
     "metadata": {},
     "output_type": "execute_result"
    }
   ],
   "source": [
    "data.corr()"
   ]
  },
  {
   "cell_type": "code",
   "execution_count": 103,
   "id": "31c3dc5f-d516-4970-ab33-ac6fe5d29ee7",
   "metadata": {},
   "outputs": [
    {
     "data": {
      "text/html": [
       "<div>\n",
       "<style scoped>\n",
       "    .dataframe tbody tr th:only-of-type {\n",
       "        vertical-align: middle;\n",
       "    }\n",
       "\n",
       "    .dataframe tbody tr th {\n",
       "        vertical-align: top;\n",
       "    }\n",
       "\n",
       "    .dataframe thead th {\n",
       "        text-align: right;\n",
       "    }\n",
       "</style>\n",
       "<table border=\"1\" class=\"dataframe\">\n",
       "  <thead>\n",
       "    <tr style=\"text-align: right;\">\n",
       "      <th></th>\n",
       "      <th>Survived</th>\n",
       "      <th>Pclass</th>\n",
       "      <th>Sex</th>\n",
       "      <th>Age</th>\n",
       "      <th>SibSp</th>\n",
       "      <th>Parch</th>\n",
       "      <th>Fare</th>\n",
       "      <th>Cabin</th>\n",
       "      <th>Embarked</th>\n",
       "    </tr>\n",
       "  </thead>\n",
       "  <tbody>\n",
       "    <tr>\n",
       "      <th>0</th>\n",
       "      <td>0</td>\n",
       "      <td>3</td>\n",
       "      <td>male</td>\n",
       "      <td>22.0</td>\n",
       "      <td>1</td>\n",
       "      <td>0</td>\n",
       "      <td>7.2500</td>\n",
       "      <td>NaN</td>\n",
       "      <td>S</td>\n",
       "    </tr>\n",
       "    <tr>\n",
       "      <th>1</th>\n",
       "      <td>1</td>\n",
       "      <td>1</td>\n",
       "      <td>female</td>\n",
       "      <td>38.0</td>\n",
       "      <td>1</td>\n",
       "      <td>0</td>\n",
       "      <td>71.2833</td>\n",
       "      <td>C85</td>\n",
       "      <td>C</td>\n",
       "    </tr>\n",
       "    <tr>\n",
       "      <th>2</th>\n",
       "      <td>1</td>\n",
       "      <td>3</td>\n",
       "      <td>female</td>\n",
       "      <td>26.0</td>\n",
       "      <td>0</td>\n",
       "      <td>0</td>\n",
       "      <td>7.9250</td>\n",
       "      <td>NaN</td>\n",
       "      <td>S</td>\n",
       "    </tr>\n",
       "    <tr>\n",
       "      <th>3</th>\n",
       "      <td>1</td>\n",
       "      <td>1</td>\n",
       "      <td>female</td>\n",
       "      <td>35.0</td>\n",
       "      <td>1</td>\n",
       "      <td>0</td>\n",
       "      <td>53.1000</td>\n",
       "      <td>C123</td>\n",
       "      <td>S</td>\n",
       "    </tr>\n",
       "    <tr>\n",
       "      <th>4</th>\n",
       "      <td>0</td>\n",
       "      <td>3</td>\n",
       "      <td>male</td>\n",
       "      <td>35.0</td>\n",
       "      <td>0</td>\n",
       "      <td>0</td>\n",
       "      <td>8.0500</td>\n",
       "      <td>NaN</td>\n",
       "      <td>S</td>\n",
       "    </tr>\n",
       "  </tbody>\n",
       "</table>\n",
       "</div>"
      ],
      "text/plain": [
       "  Survived Pclass     Sex   Age  SibSp  Parch     Fare Cabin Embarked\n",
       "0        0      3    male  22.0      1      0   7.2500   NaN        S\n",
       "1        1      1  female  38.0      1      0  71.2833   C85        C\n",
       "2        1      3  female  26.0      0      0   7.9250   NaN        S\n",
       "3        1      1  female  35.0      1      0  53.1000  C123        S\n",
       "4        0      3    male  35.0      0      0   8.0500   NaN        S"
      ]
     },
     "execution_count": 103,
     "metadata": {},
     "output_type": "execute_result"
    }
   ],
   "source": [
    "data.head()"
   ]
  },
  {
   "cell_type": "code",
   "execution_count": 104,
   "id": "ab0f66e2-9a62-4ea3-b7aa-ace4adc58689",
   "metadata": {},
   "outputs": [],
   "source": [
    "data[\"WıthFamıly\"] = data[\"SibSp\"] + data[\"Parch\"]"
   ]
  },
  {
   "cell_type": "code",
   "execution_count": 105,
   "id": "12505614-6bcb-4cd5-bd93-ad9b4930ea78",
   "metadata": {
    "tags": []
   },
   "outputs": [
    {
     "data": {
      "text/plain": [
       "array([ True,  True, False,  True, False, False, False,  True,  True,\n",
       "        True,  True, False, False,  True, False, False,  True, False,\n",
       "        True, False, False, False, False, False,  True,  True, False,\n",
       "        True, False, False, False,  True, False, False,  True,  True,\n",
       "       False, False,  True,  True,  True,  True, False,  True, False,\n",
       "       False,  True, False,  True,  True,  True, False,  True,  True,\n",
       "        True, False, False, False,  True,  True, False, False,  True,\n",
       "        True, False,  True, False, False,  True,  True, False,  True,\n",
       "       False,  True, False, False, False, False,  True, False, False,\n",
       "       False, False, False, False,  True,  True, False,  True, False,\n",
       "       False, False,  True,  True, False, False, False,  True,  True,\n",
       "        True, False, False,  True, False,  True, False, False, False,\n",
       "       False,  True, False,  True, False,  True, False, False, False,\n",
       "        True,  True,  True,  True, False,  True, False,  True,  True,\n",
       "       False, False,  True, False, False, False,  True,  True, False,\n",
       "       False,  True,  True, False, False,  True, False,  True, False,\n",
       "       False,  True, False,  True,  True, False, False,  True, False,\n",
       "        True, False,  True, False, False, False,  True,  True, False,\n",
       "       False, False,  True,  True,  True,  True, False, False, False,\n",
       "        True,  True, False, False,  True,  True, False, False, False,\n",
       "        True, False,  True,  True,  True, False,  True, False,  True,\n",
       "       False, False, False,  True,  True, False, False, False,  True,\n",
       "       False, False, False,  True, False, False, False,  True,  True,\n",
       "       False, False, False, False, False, False, False,  True,  True,\n",
       "       False,  True, False, False, False, False, False, False,  True,\n",
       "       False, False, False, False,  True,  True, False, False,  True,\n",
       "       False, False,  True,  True, False, False,  True,  True, False,\n",
       "       False, False,  True, False,  True,  True,  True, False,  True,\n",
       "       False,  True,  True,  True, False, False, False,  True, False,\n",
       "        True,  True, False, False, False,  True,  True,  True, False,\n",
       "       False, False,  True,  True, False,  True, False, False,  True,\n",
       "        True, False, False, False, False, False, False, False, False,\n",
       "       False, False, False,  True, False, False, False, False, False,\n",
       "        True, False,  True, False,  True, False, False, False,  True,\n",
       "       False,  True,  True, False, False,  True,  True, False,  True,\n",
       "       False,  True, False,  True,  True, False, False, False,  True,\n",
       "        True, False, False, False,  True,  True,  True, False,  True,\n",
       "        True,  True, False,  True, False, False, False,  True,  True,\n",
       "       False, False, False, False, False,  True,  True, False, False,\n",
       "       False,  True,  True, False, False,  True, False, False, False,\n",
       "        True,  True,  True, False,  True, False,  True, False, False,\n",
       "       False,  True,  True, False, False,  True,  True, False,  True,\n",
       "       False, False, False,  True, False,  True, False, False,  True,\n",
       "       False, False, False,  True, False,  True,  True,  True, False,\n",
       "       False, False, False, False, False, False,  True,  True, False,\n",
       "        True, False,  True, False,  True, False, False,  True, False,\n",
       "       False, False,  True,  True, False,  True, False, False, False,\n",
       "        True,  True, False,  True, False, False, False, False,  True,\n",
       "        True, False,  True,  True,  True,  True,  True, False,  True,\n",
       "       False,  True, False, False,  True,  True, False,  True, False,\n",
       "        True,  True, False,  True, False, False, False,  True, False,\n",
       "       False, False, False, False, False, False, False, False, False,\n",
       "       False,  True, False, False,  True, False, False, False,  True,\n",
       "        True, False,  True,  True, False, False, False,  True,  True,\n",
       "        True, False, False,  True,  True, False, False, False, False,\n",
       "       False,  True, False,  True, False, False, False, False, False,\n",
       "       False,  True,  True, False, False, False, False, False, False,\n",
       "        True, False, False, False, False,  True, False, False, False,\n",
       "       False,  True, False, False, False, False, False,  True,  True,\n",
       "       False,  True,  True, False,  True, False, False, False,  True,\n",
       "        True,  True,  True,  True,  True, False,  True, False,  True,\n",
       "        True,  True, False, False, False, False, False,  True, False,\n",
       "        True,  True, False, False, False, False, False,  True, False,\n",
       "        True, False, False, False,  True, False, False, False, False,\n",
       "       False,  True,  True, False,  True,  True, False, False, False,\n",
       "        True, False,  True, False, False, False,  True, False,  True,\n",
       "        True,  True, False, False, False,  True,  True, False, False,\n",
       "       False, False,  True, False, False,  True, False,  True, False,\n",
       "        True, False, False,  True,  True,  True,  True, False,  True,\n",
       "        True,  True, False, False, False, False, False, False, False,\n",
       "       False, False, False, False,  True, False, False,  True,  True,\n",
       "        True, False, False,  True, False,  True,  True, False, False,\n",
       "       False, False, False,  True, False, False, False,  True, False,\n",
       "        True, False,  True,  True, False, False, False,  True,  True,\n",
       "       False, False, False,  True,  True,  True, False, False, False,\n",
       "       False, False, False,  True,  True, False, False, False,  True,\n",
       "        True,  True,  True, False, False,  True,  True,  True, False,\n",
       "       False, False, False, False, False,  True, False,  True, False,\n",
       "        True, False,  True, False, False, False, False,  True, False,\n",
       "       False,  True, False, False, False, False, False, False, False,\n",
       "        True,  True, False, False,  True, False,  True, False,  True,\n",
       "        True, False, False, False, False, False, False,  True, False,\n",
       "       False, False, False,  True,  True,  True, False,  True,  True,\n",
       "       False,  True, False,  True,  True, False, False,  True,  True,\n",
       "       False, False, False, False, False, False, False,  True, False,\n",
       "        True, False, False,  True, False, False, False, False, False,\n",
       "        True, False, False, False, False,  True, False,  True, False,\n",
       "        True, False, False, False,  True,  True, False, False, False,\n",
       "        True, False, False, False, False, False, False,  True, False,\n",
       "        True,  True,  True, False, False, False, False, False,  True,\n",
       "       False, False, False,  True, False, False, False,  True, False,\n",
       "        True,  True, False, False,  True,  True, False, False,  True,\n",
       "       False, False,  True,  True, False, False, False,  True, False,\n",
       "       False, False, False, False, False, False, False, False, False,\n",
       "        True, False,  True,  True,  True, False,  True,  True,  True,\n",
       "        True,  True, False,  True, False,  True,  True, False,  True,\n",
       "       False, False,  True, False, False,  True, False,  True, False,\n",
       "       False,  True, False, False, False, False,  True,  True, False,\n",
       "       False, False, False,  True, False, False,  True, False, False])"
      ]
     },
     "execution_count": 105,
     "metadata": {},
     "output_type": "execute_result"
    }
   ],
   "source": [
    "data[\"WıthFamıly\"].values > 0"
   ]
  },
  {
   "cell_type": "code",
   "execution_count": 106,
   "id": "7f8be145-7170-4ff4-86dd-b58a70f10df0",
   "metadata": {
    "tags": []
   },
   "outputs": [],
   "source": [
    "data[\"WıthFamıly\"]=data[\"WıthFamıly\"].values > 0"
   ]
  },
  {
   "cell_type": "code",
   "execution_count": 107,
   "id": "c3329a0d-43a5-41b7-8202-ea2772e46c5e",
   "metadata": {},
   "outputs": [
    {
     "data": {
      "text/html": [
       "<div>\n",
       "<style scoped>\n",
       "    .dataframe tbody tr th:only-of-type {\n",
       "        vertical-align: middle;\n",
       "    }\n",
       "\n",
       "    .dataframe tbody tr th {\n",
       "        vertical-align: top;\n",
       "    }\n",
       "\n",
       "    .dataframe thead th {\n",
       "        text-align: right;\n",
       "    }\n",
       "</style>\n",
       "<table border=\"1\" class=\"dataframe\">\n",
       "  <thead>\n",
       "    <tr style=\"text-align: right;\">\n",
       "      <th></th>\n",
       "      <th>Survived</th>\n",
       "      <th>Pclass</th>\n",
       "      <th>Sex</th>\n",
       "      <th>Age</th>\n",
       "      <th>SibSp</th>\n",
       "      <th>Parch</th>\n",
       "      <th>Fare</th>\n",
       "      <th>Cabin</th>\n",
       "      <th>Embarked</th>\n",
       "      <th>WıthFamıly</th>\n",
       "    </tr>\n",
       "  </thead>\n",
       "  <tbody>\n",
       "    <tr>\n",
       "      <th>0</th>\n",
       "      <td>0</td>\n",
       "      <td>3</td>\n",
       "      <td>male</td>\n",
       "      <td>22.0</td>\n",
       "      <td>1</td>\n",
       "      <td>0</td>\n",
       "      <td>7.2500</td>\n",
       "      <td>NaN</td>\n",
       "      <td>S</td>\n",
       "      <td>True</td>\n",
       "    </tr>\n",
       "    <tr>\n",
       "      <th>1</th>\n",
       "      <td>1</td>\n",
       "      <td>1</td>\n",
       "      <td>female</td>\n",
       "      <td>38.0</td>\n",
       "      <td>1</td>\n",
       "      <td>0</td>\n",
       "      <td>71.2833</td>\n",
       "      <td>C85</td>\n",
       "      <td>C</td>\n",
       "      <td>True</td>\n",
       "    </tr>\n",
       "    <tr>\n",
       "      <th>2</th>\n",
       "      <td>1</td>\n",
       "      <td>3</td>\n",
       "      <td>female</td>\n",
       "      <td>26.0</td>\n",
       "      <td>0</td>\n",
       "      <td>0</td>\n",
       "      <td>7.9250</td>\n",
       "      <td>NaN</td>\n",
       "      <td>S</td>\n",
       "      <td>False</td>\n",
       "    </tr>\n",
       "    <tr>\n",
       "      <th>3</th>\n",
       "      <td>1</td>\n",
       "      <td>1</td>\n",
       "      <td>female</td>\n",
       "      <td>35.0</td>\n",
       "      <td>1</td>\n",
       "      <td>0</td>\n",
       "      <td>53.1000</td>\n",
       "      <td>C123</td>\n",
       "      <td>S</td>\n",
       "      <td>True</td>\n",
       "    </tr>\n",
       "    <tr>\n",
       "      <th>4</th>\n",
       "      <td>0</td>\n",
       "      <td>3</td>\n",
       "      <td>male</td>\n",
       "      <td>35.0</td>\n",
       "      <td>0</td>\n",
       "      <td>0</td>\n",
       "      <td>8.0500</td>\n",
       "      <td>NaN</td>\n",
       "      <td>S</td>\n",
       "      <td>False</td>\n",
       "    </tr>\n",
       "  </tbody>\n",
       "</table>\n",
       "</div>"
      ],
      "text/plain": [
       "  Survived Pclass     Sex   Age  SibSp  Parch     Fare Cabin Embarked  \\\n",
       "0        0      3    male  22.0      1      0   7.2500   NaN        S   \n",
       "1        1      1  female  38.0      1      0  71.2833   C85        C   \n",
       "2        1      3  female  26.0      0      0   7.9250   NaN        S   \n",
       "3        1      1  female  35.0      1      0  53.1000  C123        S   \n",
       "4        0      3    male  35.0      0      0   8.0500   NaN        S   \n",
       "\n",
       "   WıthFamıly  \n",
       "0        True  \n",
       "1        True  \n",
       "2       False  \n",
       "3        True  \n",
       "4       False  "
      ]
     },
     "execution_count": 107,
     "metadata": {},
     "output_type": "execute_result"
    }
   ],
   "source": [
    "data.head()"
   ]
  },
  {
   "cell_type": "markdown",
   "id": "694cb096-1dd0-46fd-9298-61c0731ad3f9",
   "metadata": {},
   "source": [
    "* Çoklu regresyon varsayımına göre bağımsız değişkenlerin arasında ilişkinin olmaması gerekmektedir. Çünkü Doğrusal bağlantı sorunu doğurmaktadır.\n",
    "* Bu durum değişkenlerin arasındaki ilişkilerin aynı bilgileri taşıdığını ve modelde istenilen sonuca bizi ulaştırmayacaktır.\n",
    "* Korelasyon tablosu incelendiğinde karşımıza Tam olmayan çoklu doğrusal bağlantı sorunu çıkmaktadır. \n",
    "* Bu duruma çözüm olarak WıthFamıly adında iki değişkeni birleştirerek aynı doğrultuda bir değişken oluşturdum."
   ]
  },
  {
   "cell_type": "markdown",
   "id": "487db832-c9d5-4395-a6e0-492b6132a564",
   "metadata": {},
   "source": [
    "* Ebevynin(Parch) ve çocukların sayısı(SibSp) değişkenlerinin toplamı 0 dan büyükse True, yoksa False olarak bu iki ilişkili değişkeni WıthFamıly adında bir değişkene dönüştürdüm. "
   ]
  },
  {
   "cell_type": "code",
   "execution_count": null,
   "id": "4e263d3f-22cb-4bd7-9385-9f1a6d9ca01d",
   "metadata": {},
   "outputs": [],
   "source": [
    "data = data.astype({\"WıthFamıly\": \"category\"})#Kategoriklestirdik tipini"
   ]
  },
  {
   "cell_type": "code",
   "execution_count": null,
   "id": "56bd9c31-fdfe-4eaa-a045-d7547fe89aca",
   "metadata": {},
   "outputs": [],
   "source": [
    "data.drop(\"SibSp\" ,axis=1, inplace=True)\n"
   ]
  },
  {
   "cell_type": "code",
   "execution_count": null,
   "id": "4b06e32e-ca91-4acd-bc60-680ad98f7fce",
   "metadata": {},
   "outputs": [],
   "source": [
    "data.drop(\"Parch\" ,axis=1, inplace=True)"
   ]
  },
  {
   "cell_type": "markdown",
   "id": "c497a417-c5e0-44c8-89a5-20c5aa5b5b3a",
   "metadata": {
    "tags": []
   },
   "source": [
    "# Eksik Deger İnceleme"
   ]
  },
  {
   "cell_type": "code",
   "execution_count": null,
   "id": "004b1811-9edf-486d-8acd-0b3115d63d65",
   "metadata": {
    "tags": []
   },
   "outputs": [],
   "source": [
    "data.isnull().sum()"
   ]
  },
  {
   "cell_type": "markdown",
   "id": "15999970-c849-45fc-a256-c0a14f3c6305",
   "metadata": {},
   "source": [
    "* Age, Cabin ve Embarked değişkenlerinde kayıp gözlem birimlerinin bulunduğu görülmekte."
   ]
  },
  {
   "cell_type": "markdown",
   "id": "a6c06655-5d47-4730-8bb1-81461865f1e2",
   "metadata": {
    "tags": []
   },
   "source": [
    "## Age Degıskeni"
   ]
  },
  {
   "cell_type": "code",
   "execution_count": null,
   "id": "0308ad41-070d-40bb-a554-daf1cce30b85",
   "metadata": {},
   "outputs": [],
   "source": [
    "data['Age'].hist(density=True)\n",
    "data['Age'].plot(kind='density')\n",
    "plt.xlabel('Age')\n",
    "plt.grid()\n",
    "plt.show()"
   ]
  },
  {
   "cell_type": "markdown",
   "id": "1064b981-745d-401f-bf18-55a99dadb219",
   "metadata": {},
   "source": [
    "* Age değişkeni sağa kuyruk vermiş normal dağılım teorisinden kaynaklı burada median esas alınarak doldurma yapacağım.\n",
    " "
   ]
  },
  {
   "cell_type": "code",
   "execution_count": null,
   "id": "b008139c-e099-49fd-a37c-d328d04d09ae",
   "metadata": {},
   "outputs": [],
   "source": [
    "data[\"Age\"].median()"
   ]
  },
  {
   "cell_type": "code",
   "execution_count": null,
   "id": "c90cda64-69ed-4555-91f2-1f03be0ee715",
   "metadata": {},
   "outputs": [],
   "source": [
    "data[\"Age\"].isnull().sum()/len(data[\"Age\"])"
   ]
  },
  {
   "cell_type": "markdown",
   "id": "64abe285-aa72-41d8-8b33-ffe6d19b1bb5",
   "metadata": {},
   "source": [
    "* Yaklaşık 20 oranında eksik değerlerimiz var ve tamamen raslantısal kayıp."
   ]
  },
  {
   "cell_type": "code",
   "execution_count": null,
   "id": "2b1bb103-3e57-401e-800d-4f0696f2b971",
   "metadata": {
    "tags": []
   },
   "outputs": [],
   "source": [
    "data.describe() "
   ]
  },
  {
   "cell_type": "code",
   "execution_count": null,
   "id": "d3c15dcb-b2ad-457f-a576-891e1608156f",
   "metadata": {},
   "outputs": [],
   "source": [
    "data[\"Age\"].fillna(data[\"Age\"].median(skipna=True), inplace=True) #Kayıp gözlem birimleri dolduruldu."
   ]
  },
  {
   "cell_type": "markdown",
   "id": "71c377e7-f850-4c73-88ab-37d620ced4ae",
   "metadata": {
    "tags": []
   },
   "source": [
    "## Cabin Degiskeni"
   ]
  },
  {
   "cell_type": "markdown",
   "id": "9a3e2ca3-dacc-4b87-9a8c-35489da6a295",
   "metadata": {},
   "source": [
    "* Kategorik Degısken"
   ]
  },
  {
   "cell_type": "code",
   "execution_count": null,
   "id": "7b48eaab-8d9d-4704-9814-d9ba1d2cd781",
   "metadata": {},
   "outputs": [],
   "source": [
    "data[\"Cabin\"].isnull().sum()/len(data[\"Cabin\"])"
   ]
  },
  {
   "cell_type": "code",
   "execution_count": null,
   "id": "adc45891-9110-4412-9369-29122ec303d3",
   "metadata": {},
   "outputs": [],
   "source": [
    "data.drop(\"Cabin\", axis=1, inplace=True)"
   ]
  },
  {
   "cell_type": "markdown",
   "id": "0f89a516-b12d-4afa-b3ed-8cecb08585f4",
   "metadata": {},
   "source": [
    "* Cabin degiskeninde yüksek oranda kayıp gözükmekte bu yüzden veri setinden silindi. "
   ]
  },
  {
   "cell_type": "markdown",
   "id": "20e2b96b-77f0-42b4-a0cb-7ca063882004",
   "metadata": {
    "tags": []
   },
   "source": [
    "## Embarked Degiskeni"
   ]
  },
  {
   "cell_type": "markdown",
   "id": "5f0bcad7-9b77-4081-bca2-eadaf90eb171",
   "metadata": {},
   "source": [
    "* 2 eksik değerimiz vardı.\n",
    "* Kategorik degisken\n"
   ]
  },
  {
   "cell_type": "code",
   "execution_count": null,
   "id": "23759c8c-8b53-4986-aaf8-1b21c2e8d4f2",
   "metadata": {},
   "outputs": [],
   "source": [
    "data[\"Embarked\"].isnull().sum()"
   ]
  },
  {
   "cell_type": "code",
   "execution_count": null,
   "id": "b47c94ab-a7a4-442e-a828-6df9eacef215",
   "metadata": {},
   "outputs": [],
   "source": [
    "data[\"Embarked\"].value_counts()"
   ]
  },
  {
   "cell_type": "code",
   "execution_count": null,
   "id": "c1d13100-4857-4f19-98b7-1c7128f91a5f",
   "metadata": {},
   "outputs": [],
   "source": [
    "sns.countplot(x='Embarked', data=data)\n",
    "plt.grid()\n"
   ]
  },
  {
   "cell_type": "code",
   "execution_count": null,
   "id": "9fe3491e-4cc5-4a3e-9391-2b98a1969db8",
   "metadata": {},
   "outputs": [],
   "source": [
    "data[\"Embarked\"].fillna(data[\"Embarked\"].value_counts().idxmax(), inplace=True)"
   ]
  },
  {
   "cell_type": "code",
   "execution_count": 123,
   "id": "c162d2f6-c567-4724-bc57-7f5add26b823",
   "metadata": {},
   "outputs": [
    {
     "data": {
      "text/html": [
       "<div>\n",
       "<style scoped>\n",
       "    .dataframe tbody tr th:only-of-type {\n",
       "        vertical-align: middle;\n",
       "    }\n",
       "\n",
       "    .dataframe tbody tr th {\n",
       "        vertical-align: top;\n",
       "    }\n",
       "\n",
       "    .dataframe thead th {\n",
       "        text-align: right;\n",
       "    }\n",
       "</style>\n",
       "<table border=\"1\" class=\"dataframe\">\n",
       "  <thead>\n",
       "    <tr style=\"text-align: right;\">\n",
       "      <th></th>\n",
       "      <th>Survived</th>\n",
       "      <th>Pclass</th>\n",
       "      <th>Sex</th>\n",
       "      <th>Age</th>\n",
       "      <th>Fare</th>\n",
       "      <th>Embarked</th>\n",
       "      <th>WıthFamıly</th>\n",
       "    </tr>\n",
       "  </thead>\n",
       "  <tbody>\n",
       "    <tr>\n",
       "      <th>0</th>\n",
       "      <td>0</td>\n",
       "      <td>3</td>\n",
       "      <td>male</td>\n",
       "      <td>22.0</td>\n",
       "      <td>7.2500</td>\n",
       "      <td>S</td>\n",
       "      <td>True</td>\n",
       "    </tr>\n",
       "    <tr>\n",
       "      <th>1</th>\n",
       "      <td>1</td>\n",
       "      <td>1</td>\n",
       "      <td>female</td>\n",
       "      <td>38.0</td>\n",
       "      <td>71.2833</td>\n",
       "      <td>C</td>\n",
       "      <td>True</td>\n",
       "    </tr>\n",
       "    <tr>\n",
       "      <th>2</th>\n",
       "      <td>1</td>\n",
       "      <td>3</td>\n",
       "      <td>female</td>\n",
       "      <td>26.0</td>\n",
       "      <td>7.9250</td>\n",
       "      <td>S</td>\n",
       "      <td>False</td>\n",
       "    </tr>\n",
       "    <tr>\n",
       "      <th>3</th>\n",
       "      <td>1</td>\n",
       "      <td>1</td>\n",
       "      <td>female</td>\n",
       "      <td>35.0</td>\n",
       "      <td>53.1000</td>\n",
       "      <td>S</td>\n",
       "      <td>True</td>\n",
       "    </tr>\n",
       "    <tr>\n",
       "      <th>4</th>\n",
       "      <td>0</td>\n",
       "      <td>3</td>\n",
       "      <td>male</td>\n",
       "      <td>35.0</td>\n",
       "      <td>8.0500</td>\n",
       "      <td>S</td>\n",
       "      <td>False</td>\n",
       "    </tr>\n",
       "  </tbody>\n",
       "</table>\n",
       "</div>"
      ],
      "text/plain": [
       "  Survived Pclass     Sex   Age     Fare Embarked WıthFamıly\n",
       "0        0      3    male  22.0   7.2500        S       True\n",
       "1        1      1  female  38.0  71.2833        C       True\n",
       "2        1      3  female  26.0   7.9250        S      False\n",
       "3        1      1  female  35.0  53.1000        S       True\n",
       "4        0      3    male  35.0   8.0500        S      False"
      ]
     },
     "execution_count": 123,
     "metadata": {},
     "output_type": "execute_result"
    }
   ],
   "source": [
    "data.head()"
   ]
  },
  {
   "cell_type": "code",
   "execution_count": 124,
   "id": "e11c96a3-7a66-4a96-a3c5-c6e886769882",
   "metadata": {},
   "outputs": [
    {
     "data": {
      "text/plain": [
       "Survived      0\n",
       "Pclass        0\n",
       "Sex           0\n",
       "Age           0\n",
       "Fare          0\n",
       "Embarked      0\n",
       "WıthFamıly    0\n",
       "dtype: int64"
      ]
     },
     "execution_count": 124,
     "metadata": {},
     "output_type": "execute_result"
    }
   ],
   "source": [
    "data.isnull().sum()"
   ]
  },
  {
   "cell_type": "markdown",
   "id": "50d4219b-af8f-43cb-b90d-c4733c3c1ddc",
   "metadata": {
    "tags": []
   },
   "source": [
    "# Keşifci Veri Analizi"
   ]
  },
  {
   "cell_type": "markdown",
   "id": "1153f910-6fdb-45c6-96bc-7eb18a49e826",
   "metadata": {},
   "source": [
    "## Tek Değişken Analizi"
   ]
  },
  {
   "cell_type": "code",
   "execution_count": 125,
   "id": "65120d79-322f-430e-bc27-e0c618f74bb1",
   "metadata": {},
   "outputs": [
    {
     "name": "stderr",
     "output_type": "stream",
     "text": [
      "C:\\Users\\HP\\anaconda3\\lib\\site-packages\\seaborn\\_decorators.py:43: FutureWarning: Pass the following variable as a keyword arg: x. From version 0.12, the only valid positional argument will be `data`, and passing other arguments without an explicit keyword will result in an error or misinterpretation.\n",
      "  FutureWarning\n",
      "C:\\Users\\HP\\anaconda3\\lib\\site-packages\\seaborn\\_decorators.py:43: FutureWarning: Pass the following variable as a keyword arg: x. From version 0.12, the only valid positional argument will be `data`, and passing other arguments without an explicit keyword will result in an error or misinterpretation.\n",
      "  FutureWarning\n"
     ]
    },
    {
     "data": {
      "text/plain": [
       "<AxesSubplot:title={'center':'WıthFamıly'}, xlabel='WıthFamıly', ylabel='count'>"
      ]
     },
     "execution_count": 125,
     "metadata": {},
     "output_type": "execute_result"
    },
    {
     "data": {
      "image/png": "[encoded data removed]",
      "text/plain": [
       "<Figure size 864x864 with 5 Axes>"
      ]
     },
     "metadata": {
      "needs_background": "light"
     },
     "output_type": "display_data"
    }
   ],
   "source": [
    "#Kategorıkler\n",
    "\n",
    "fig = plt.figure(figsize=(12,12))\n",
    "\n",
    "plt.subplot(2,3,1)\n",
    "plt.title('Survived')\n",
    "sns.countplot(data.Survived)\n",
    "\n",
    "\n",
    "plt.subplot(2,3,2)\n",
    "plt.title('Sex')\n",
    "sns.countplot(data.Sex)\n",
    "\n",
    "plt.subplot(2,3,4)\n",
    "plt.title('Pclass')\n",
    "sns.countplot(data.Pclass)\n",
    "\n",
    "\n",
    "plt.subplot(2,3,5)\n",
    "plt.title('Embared')\n",
    "sns.countplot(data.Embarked)\n",
    "\n",
    "plt.subplot(2,3,6)\n",
    "plt.title('WıthFamıly')\n",
    "sns.countplot(data.WıthFamıly)"
   ]
  },
  {
   "cell_type": "markdown",
   "id": "e1c3e014-fee2-4b80-917a-8ca2eeb2fcde",
   "metadata": {},
   "source": [
    "* Bağımlı değişkenimiz Survived değiskenindeki gemide %44 oranında hayatta kalanların olduğunu ayrıca \n",
    "* sınıfların frekans dağılım oranı dengeli olduğundan accuracy scoruna güvenilebilir olduğunu açıklamaktadır.\n",
    "\n",
    "* Gemide kadın erkek cinsiyet oranlarında erkeğin gemide daha çoğunlukta olduğu görülmektedir.\n",
    "\n",
    "* Yolcuların seyahat sınıflarında en çok 3 numaralı normal tarifeyi seçtiği görülmektedir.\n",
    "\n",
    "* Gemiye binen yolcuların en çok Southampton limanından bindiği görülmüştür.\n",
    "\n",
    "* WıthFamıly değişkeninde yalnız seyahat yapanların daha çok olduğu görülmektedir."
   ]
  },
  {
   "cell_type": "code",
   "execution_count": 126,
   "id": "368592be-64ef-432e-b478-f5962cdde34a",
   "metadata": {},
   "outputs": [
    {
     "data": {
      "image/png": "[encoded data removed]",
      "text/plain": [
       "<Figure size 1080x864 with 2 Axes>"
      ]
     },
     "metadata": {
      "needs_background": "light"
     },
     "output_type": "display_data"
    }
   ],
   "source": [
    "#Numerıcler\n",
    "\n",
    "fig=plt.figure(figsize=(15,12))\n",
    "plt.subplot(2,4,1)\n",
    "plt.hist(data.Age)\n",
    "plt.title(\"Age\")\n",
    "\n",
    "plt.subplot(2,4,2)\n",
    "plt.hist(data.Fare)\n",
    "plt.title(\"Fare\")\n",
    "\n",
    "plt.grid()"
   ]
  },
  {
   "cell_type": "markdown",
   "id": "633342b4-72bd-4f22-ab17-92c38d2f111f",
   "metadata": {},
   "source": [
    "* Yaş dağılımının 0-50 yaş aralığında dağıldığı yoğun dağılımın 20-35 yaşları arasında olduğu görülmektedir.\n",
    "\n",
    "* Yolcu ücretlerinin 0-100 arasında yoğun olduğu ayrıca aykırı değerlerin bulunduğu görülmektedir.\n",
    "\n",
    "\n"
   ]
  },
  {
   "cell_type": "code",
   "execution_count": 127,
   "id": "895dc3c0-3ac5-49bc-9400-592905987457",
   "metadata": {},
   "outputs": [
    {
     "data": {
      "text/html": [
       "<div>\n",
       "<style scoped>\n",
       "    .dataframe tbody tr th:only-of-type {\n",
       "        vertical-align: middle;\n",
       "    }\n",
       "\n",
       "    .dataframe tbody tr th {\n",
       "        vertical-align: top;\n",
       "    }\n",
       "\n",
       "    .dataframe thead th {\n",
       "        text-align: right;\n",
       "    }\n",
       "</style>\n",
       "<table border=\"1\" class=\"dataframe\">\n",
       "  <thead>\n",
       "    <tr style=\"text-align: right;\">\n",
       "      <th></th>\n",
       "      <th>Survived</th>\n",
       "      <th>Pclass</th>\n",
       "      <th>Sex</th>\n",
       "      <th>Age</th>\n",
       "      <th>Fare</th>\n",
       "      <th>Embarked</th>\n",
       "      <th>WıthFamıly</th>\n",
       "    </tr>\n",
       "  </thead>\n",
       "  <tbody>\n",
       "    <tr>\n",
       "      <th>0</th>\n",
       "      <td>0</td>\n",
       "      <td>3</td>\n",
       "      <td>male</td>\n",
       "      <td>22.0</td>\n",
       "      <td>7.2500</td>\n",
       "      <td>S</td>\n",
       "      <td>True</td>\n",
       "    </tr>\n",
       "    <tr>\n",
       "      <th>1</th>\n",
       "      <td>1</td>\n",
       "      <td>1</td>\n",
       "      <td>female</td>\n",
       "      <td>38.0</td>\n",
       "      <td>71.2833</td>\n",
       "      <td>C</td>\n",
       "      <td>True</td>\n",
       "    </tr>\n",
       "    <tr>\n",
       "      <th>2</th>\n",
       "      <td>1</td>\n",
       "      <td>3</td>\n",
       "      <td>female</td>\n",
       "      <td>26.0</td>\n",
       "      <td>7.9250</td>\n",
       "      <td>S</td>\n",
       "      <td>False</td>\n",
       "    </tr>\n",
       "    <tr>\n",
       "      <th>3</th>\n",
       "      <td>1</td>\n",
       "      <td>1</td>\n",
       "      <td>female</td>\n",
       "      <td>35.0</td>\n",
       "      <td>53.1000</td>\n",
       "      <td>S</td>\n",
       "      <td>True</td>\n",
       "    </tr>\n",
       "    <tr>\n",
       "      <th>4</th>\n",
       "      <td>0</td>\n",
       "      <td>3</td>\n",
       "      <td>male</td>\n",
       "      <td>35.0</td>\n",
       "      <td>8.0500</td>\n",
       "      <td>S</td>\n",
       "      <td>False</td>\n",
       "    </tr>\n",
       "  </tbody>\n",
       "</table>\n",
       "</div>"
      ],
      "text/plain": [
       "  Survived Pclass     Sex   Age     Fare Embarked WıthFamıly\n",
       "0        0      3    male  22.0   7.2500        S       True\n",
       "1        1      1  female  38.0  71.2833        C       True\n",
       "2        1      3  female  26.0   7.9250        S      False\n",
       "3        1      1  female  35.0  53.1000        S       True\n",
       "4        0      3    male  35.0   8.0500        S      False"
      ]
     },
     "execution_count": 127,
     "metadata": {},
     "output_type": "execute_result"
    }
   ],
   "source": [
    "data.head()"
   ]
  },
  {
   "cell_type": "code",
   "execution_count": 128,
   "id": "e0abaee9-adb5-4bd7-9cd8-fdaa5c19646e",
   "metadata": {},
   "outputs": [
    {
     "data": {
      "text/html": [
       "<div>\n",
       "<style scoped>\n",
       "    .dataframe tbody tr th:only-of-type {\n",
       "        vertical-align: middle;\n",
       "    }\n",
       "\n",
       "    .dataframe tbody tr th {\n",
       "        vertical-align: top;\n",
       "    }\n",
       "\n",
       "    .dataframe thead th {\n",
       "        text-align: right;\n",
       "    }\n",
       "</style>\n",
       "<table border=\"1\" class=\"dataframe\">\n",
       "  <thead>\n",
       "    <tr style=\"text-align: right;\">\n",
       "      <th></th>\n",
       "      <th>Survived</th>\n",
       "      <th>Pclass</th>\n",
       "      <th>Sex</th>\n",
       "      <th>Age</th>\n",
       "      <th>Fare</th>\n",
       "      <th>Embarked</th>\n",
       "      <th>WıthFamıly</th>\n",
       "    </tr>\n",
       "  </thead>\n",
       "  <tbody>\n",
       "    <tr>\n",
       "      <th>0</th>\n",
       "      <td>0</td>\n",
       "      <td>3</td>\n",
       "      <td>male</td>\n",
       "      <td>22.0</td>\n",
       "      <td>7.2500</td>\n",
       "      <td>S</td>\n",
       "      <td>True</td>\n",
       "    </tr>\n",
       "    <tr>\n",
       "      <th>1</th>\n",
       "      <td>1</td>\n",
       "      <td>1</td>\n",
       "      <td>female</td>\n",
       "      <td>38.0</td>\n",
       "      <td>71.2833</td>\n",
       "      <td>C</td>\n",
       "      <td>True</td>\n",
       "    </tr>\n",
       "    <tr>\n",
       "      <th>2</th>\n",
       "      <td>1</td>\n",
       "      <td>3</td>\n",
       "      <td>female</td>\n",
       "      <td>26.0</td>\n",
       "      <td>7.9250</td>\n",
       "      <td>S</td>\n",
       "      <td>False</td>\n",
       "    </tr>\n",
       "    <tr>\n",
       "      <th>3</th>\n",
       "      <td>1</td>\n",
       "      <td>1</td>\n",
       "      <td>female</td>\n",
       "      <td>35.0</td>\n",
       "      <td>53.1000</td>\n",
       "      <td>S</td>\n",
       "      <td>True</td>\n",
       "    </tr>\n",
       "    <tr>\n",
       "      <th>4</th>\n",
       "      <td>0</td>\n",
       "      <td>3</td>\n",
       "      <td>male</td>\n",
       "      <td>35.0</td>\n",
       "      <td>8.0500</td>\n",
       "      <td>S</td>\n",
       "      <td>False</td>\n",
       "    </tr>\n",
       "  </tbody>\n",
       "</table>\n",
       "</div>"
      ],
      "text/plain": [
       "  Survived Pclass     Sex   Age     Fare Embarked WıthFamıly\n",
       "0        0      3    male  22.0   7.2500        S       True\n",
       "1        1      1  female  38.0  71.2833        C       True\n",
       "2        1      3  female  26.0   7.9250        S      False\n",
       "3        1      1  female  35.0  53.1000        S       True\n",
       "4        0      3    male  35.0   8.0500        S      False"
      ]
     },
     "execution_count": 128,
     "metadata": {},
     "output_type": "execute_result"
    }
   ],
   "source": [
    "data.head()"
   ]
  },
  {
   "cell_type": "markdown",
   "id": "1cdf2663-ad41-4f99-86d6-bae402f33877",
   "metadata": {
    "tags": []
   },
   "source": [
    "## İkili Analizler"
   ]
  },
  {
   "cell_type": "code",
   "execution_count": 129,
   "id": "1b6f8334-d348-4c07-a2cc-1847628359ac",
   "metadata": {},
   "outputs": [
    {
     "data": {
      "image/png": "[encoded data removed]",
      "text/plain": [
       "<Figure size 576x576 with 1 Axes>"
      ]
     },
     "metadata": {
      "needs_background": "light"
     },
     "output_type": "display_data"
    }
   ],
   "source": [
    "plt.figure(figsize=(8,8))\n",
    "ax = sns.kdeplot(data[\"Age\"][data.Survived == 1], color=\"green\", shade=True)\n",
    "sns.kdeplot(data[\"Age\"][data.Survived == 0], color=\"red\", shade=True)\n",
    "\n",
    "plt.legend(['Survived', 'Died'])\n",
    "plt.title('Yaş - Hayatta Kalma')\n",
    "plt.xlabel('Age')\n",
    "plt.show()"
   ]
  },
  {
   "cell_type": "markdown",
   "id": "e60eab02-e298-4fe3-ab5e-d39f5a108d90",
   "metadata": {},
   "source": [
    "* Grafiğe bakıldığında erken yaşlarda olanların hayatta kalma oranlarının fazla olduğu görülmekte.\n"
   ]
  },
  {
   "cell_type": "code",
   "execution_count": 130,
   "id": "b5f6fba1-3418-40b0-9fa8-391c4c3fb496",
   "metadata": {},
   "outputs": [
    {
     "data": {
      "image/png": "[encoded data removed]",
      "text/plain": [
       "<Figure size 576x576 with 1 Axes>"
      ]
     },
     "metadata": {
      "needs_background": "light"
     },
     "output_type": "display_data"
    }
   ],
   "source": [
    "plt.figure(figsize=(8,8))\n",
    "ax = sns.kdeplot(data[\"Fare\"][data.Survived == 1], color=\"green\",shade=True)\n",
    "sns.kdeplot(data[\"Fare\"][data.Survived == 0], color=\"red\", shade=True)\n",
    "\n",
    "plt.legend(['Survived', 'Died'])\n",
    "plt.title('Yolcu ücreti - Hayatta Kalma')\n",
    "plt.xlabel('Fare')\n",
    "plt.show()\n"
   ]
  },
  {
   "cell_type": "markdown",
   "id": "c0d7a85d-b80e-415d-a7c2-cf0262333bf7",
   "metadata": {},
   "source": [
    "* Ücreti yüksek ödeyennlerin hayatta kalma oranlarının yüksek olduğunu görmekteyiz "
   ]
  },
  {
   "cell_type": "code",
   "execution_count": 131,
   "id": "e1b28f86-b0a1-497f-922c-4be1c016196d",
   "metadata": {},
   "outputs": [
    {
     "data": {
      "text/html": [
       "<div>\n",
       "<style scoped>\n",
       "    .dataframe tbody tr th:only-of-type {\n",
       "        vertical-align: middle;\n",
       "    }\n",
       "\n",
       "    .dataframe tbody tr th {\n",
       "        vertical-align: top;\n",
       "    }\n",
       "\n",
       "    .dataframe thead th {\n",
       "        text-align: right;\n",
       "    }\n",
       "</style>\n",
       "<table border=\"1\" class=\"dataframe\">\n",
       "  <thead>\n",
       "    <tr style=\"text-align: right;\">\n",
       "      <th></th>\n",
       "      <th>Survived</th>\n",
       "      <th>Pclass</th>\n",
       "      <th>Sex</th>\n",
       "      <th>Age</th>\n",
       "      <th>Fare</th>\n",
       "      <th>Embarked</th>\n",
       "      <th>WıthFamıly</th>\n",
       "    </tr>\n",
       "  </thead>\n",
       "  <tbody>\n",
       "    <tr>\n",
       "      <th>0</th>\n",
       "      <td>0</td>\n",
       "      <td>3</td>\n",
       "      <td>male</td>\n",
       "      <td>22.0</td>\n",
       "      <td>7.2500</td>\n",
       "      <td>S</td>\n",
       "      <td>True</td>\n",
       "    </tr>\n",
       "    <tr>\n",
       "      <th>1</th>\n",
       "      <td>1</td>\n",
       "      <td>1</td>\n",
       "      <td>female</td>\n",
       "      <td>38.0</td>\n",
       "      <td>71.2833</td>\n",
       "      <td>C</td>\n",
       "      <td>True</td>\n",
       "    </tr>\n",
       "    <tr>\n",
       "      <th>2</th>\n",
       "      <td>1</td>\n",
       "      <td>3</td>\n",
       "      <td>female</td>\n",
       "      <td>26.0</td>\n",
       "      <td>7.9250</td>\n",
       "      <td>S</td>\n",
       "      <td>False</td>\n",
       "    </tr>\n",
       "    <tr>\n",
       "      <th>3</th>\n",
       "      <td>1</td>\n",
       "      <td>1</td>\n",
       "      <td>female</td>\n",
       "      <td>35.0</td>\n",
       "      <td>53.1000</td>\n",
       "      <td>S</td>\n",
       "      <td>True</td>\n",
       "    </tr>\n",
       "    <tr>\n",
       "      <th>4</th>\n",
       "      <td>0</td>\n",
       "      <td>3</td>\n",
       "      <td>male</td>\n",
       "      <td>35.0</td>\n",
       "      <td>8.0500</td>\n",
       "      <td>S</td>\n",
       "      <td>False</td>\n",
       "    </tr>\n",
       "  </tbody>\n",
       "</table>\n",
       "</div>"
      ],
      "text/plain": [
       "  Survived Pclass     Sex   Age     Fare Embarked WıthFamıly\n",
       "0        0      3    male  22.0   7.2500        S       True\n",
       "1        1      1  female  38.0  71.2833        C       True\n",
       "2        1      3  female  26.0   7.9250        S      False\n",
       "3        1      1  female  35.0  53.1000        S       True\n",
       "4        0      3    male  35.0   8.0500        S      False"
      ]
     },
     "execution_count": 131,
     "metadata": {},
     "output_type": "execute_result"
    }
   ],
   "source": [
    "data.head()"
   ]
  },
  {
   "cell_type": "code",
   "execution_count": 132,
   "id": "5efee8ef-9d9b-4586-8313-e727e63a22f9",
   "metadata": {},
   "outputs": [
    {
     "name": "stderr",
     "output_type": "stream",
     "text": [
      "C:\\Users\\HP\\anaconda3\\lib\\site-packages\\seaborn\\_decorators.py:43: FutureWarning: Pass the following variable as a keyword arg: x. From version 0.12, the only valid positional argument will be `data`, and passing other arguments without an explicit keyword will result in an error or misinterpretation.\n",
      "  FutureWarning\n"
     ]
    },
    {
     "data": {
      "text/plain": [
       "<AxesSubplot:xlabel='Pclass', ylabel='count'>"
      ]
     },
     "execution_count": 132,
     "metadata": {},
     "output_type": "execute_result"
    },
    {
     "data": {
      "image/png": "[encoded data removed]",
      "text/plain": [
       "<Figure size 432x288 with 1 Axes>"
      ]
     },
     "metadata": {
      "needs_background": "light"
     },
     "output_type": "display_data"
    }
   ],
   "source": [
    "sns.countplot(\"Pclass\",hue=\"Survived\", data=data)"
   ]
  },
  {
   "cell_type": "markdown",
   "id": "9e2ea6a5-ee71-4cea-bd61-1a9c211135bd",
   "metadata": {},
   "source": [
    "* Yolcu sınıfı 3 olanların (normal) ölü olmalarının oranının yüksek olduğunu söyleyebiliriz. \n",
    "* Ek olarak yolcu sınıfı 1 olanların hayatta kalma olasılıkları diğer sınıflara göre daha fazla olduğu görülmekte. "
   ]
  },
  {
   "cell_type": "code",
   "execution_count": 133,
   "id": "87504235-45a3-4757-8e1b-77a1435643d1",
   "metadata": {},
   "outputs": [
    {
     "name": "stderr",
     "output_type": "stream",
     "text": [
      "C:\\Users\\HP\\anaconda3\\lib\\site-packages\\seaborn\\_decorators.py:43: FutureWarning: Pass the following variable as a keyword arg: x. From version 0.12, the only valid positional argument will be `data`, and passing other arguments without an explicit keyword will result in an error or misinterpretation.\n",
      "  FutureWarning\n"
     ]
    },
    {
     "data": {
      "image/png": "[encoded data removed]",
      "text/plain": [
       "<Figure size 432x288 with 1 Axes>"
      ]
     },
     "metadata": {
      "needs_background": "light"
     },
     "output_type": "display_data"
    }
   ],
   "source": [
    "sns.countplot(\"WıthFamıly\",hue=\"Survived\", data=data)\n",
    "plt.grid()"
   ]
  },
  {
   "cell_type": "markdown",
   "id": "7b838ee0-74cd-40ff-ac21-66bcd2b73264",
   "metadata": {},
   "source": [
    "* Yalnız seyahat edenlerin ölüm oranları daha fazla olduğu gözükmekte. "
   ]
  },
  {
   "cell_type": "code",
   "execution_count": 134,
   "id": "6ab3cf88-2e5b-4f58-b4ea-5b251d79c81a",
   "metadata": {},
   "outputs": [
    {
     "data": {
      "image/png": "[encoded data removed]",
      "text/plain": [
       "<Figure size 432x288 with 1 Axes>"
      ]
     },
     "metadata": {
      "needs_background": "light"
     },
     "output_type": "display_data"
    }
   ],
   "source": [
    "sns.countplot(\"Sex\",hue=\"Survived\", data=data)\n",
    "plt.grid()"
   ]
  },
  {
   "cell_type": "markdown",
   "id": "ec3dddbe-2dba-4350-adc1-72d0b10e1f86",
   "metadata": {},
   "source": [
    "* Yukarıdaki grafiğe göre kadınların daha çok önemsendiğini daha çok hayatta kalma oranlarından anlaşılabilir."
   ]
  },
  {
   "cell_type": "code",
   "execution_count": 135,
   "id": "3d922d32-21c3-45b2-892d-4c59f3c2faed",
   "metadata": {},
   "outputs": [
    {
     "data": {
      "image/png": "[encoded data removed]",
      "text/plain": [
       "<Figure size 432x288 with 1 Axes>"
      ]
     },
     "metadata": {
      "needs_background": "light"
     },
     "output_type": "display_data"
    }
   ],
   "source": [
    "sns.countplot(\"Embarked\",hue=\"Survived\", data=data)\n",
    "plt.grid()"
   ]
  },
  {
   "cell_type": "markdown",
   "id": "24d21930-a9ae-443c-8010-1b10c2d691e8",
   "metadata": {},
   "source": [
    "* Yolcuların bindiği limanlardan en çok ölenlerin Southampton limanından olduğu görülmektedir."
   ]
  },
  {
   "cell_type": "markdown",
   "id": "b07bc4c0-a686-4f9d-afce-027c84ba2ea5",
   "metadata": {
    "tags": []
   },
   "source": [
    "# Kategorik Değiskenler\n",
    "\n",
    "* Kategorik değişkenlere one-hot dummy dönüşümü uygulayalım."
   ]
  },
  {
   "cell_type": "code",
   "execution_count": 136,
   "id": "eb6e743e-ac00-44c2-ae89-ae1ea5ee4dd5",
   "metadata": {},
   "outputs": [],
   "source": [
    "data1=pd.get_dummies(data, columns=[\"Pclass\",\"Embarked\",\"Sex\",\"WıthFamıly\"], drop_first=True)"
   ]
  },
  {
   "cell_type": "code",
   "execution_count": 137,
   "id": "2051a103-abd6-4149-a1b7-0b015ceb2a0d",
   "metadata": {},
   "outputs": [
    {
     "data": {
      "text/html": [
       "<div>\n",
       "<style scoped>\n",
       "    .dataframe tbody tr th:only-of-type {\n",
       "        vertical-align: middle;\n",
       "    }\n",
       "\n",
       "    .dataframe tbody tr th {\n",
       "        vertical-align: top;\n",
       "    }\n",
       "\n",
       "    .dataframe thead th {\n",
       "        text-align: right;\n",
       "    }\n",
       "</style>\n",
       "<table border=\"1\" class=\"dataframe\">\n",
       "  <thead>\n",
       "    <tr style=\"text-align: right;\">\n",
       "      <th></th>\n",
       "      <th>Survived</th>\n",
       "      <th>Age</th>\n",
       "      <th>Fare</th>\n",
       "      <th>Pclass_2</th>\n",
       "      <th>Pclass_3</th>\n",
       "      <th>Embarked_Q</th>\n",
       "      <th>Embarked_S</th>\n",
       "      <th>Sex_male</th>\n",
       "      <th>WıthFamıly_True</th>\n",
       "    </tr>\n",
       "  </thead>\n",
       "  <tbody>\n",
       "    <tr>\n",
       "      <th>0</th>\n",
       "      <td>0</td>\n",
       "      <td>22.0</td>\n",
       "      <td>7.2500</td>\n",
       "      <td>0</td>\n",
       "      <td>1</td>\n",
       "      <td>0</td>\n",
       "      <td>1</td>\n",
       "      <td>1</td>\n",
       "      <td>1</td>\n",
       "    </tr>\n",
       "    <tr>\n",
       "      <th>1</th>\n",
       "      <td>1</td>\n",
       "      <td>38.0</td>\n",
       "      <td>71.2833</td>\n",
       "      <td>0</td>\n",
       "      <td>0</td>\n",
       "      <td>0</td>\n",
       "      <td>0</td>\n",
       "      <td>0</td>\n",
       "      <td>1</td>\n",
       "    </tr>\n",
       "    <tr>\n",
       "      <th>2</th>\n",
       "      <td>1</td>\n",
       "      <td>26.0</td>\n",
       "      <td>7.9250</td>\n",
       "      <td>0</td>\n",
       "      <td>1</td>\n",
       "      <td>0</td>\n",
       "      <td>1</td>\n",
       "      <td>0</td>\n",
       "      <td>0</td>\n",
       "    </tr>\n",
       "    <tr>\n",
       "      <th>3</th>\n",
       "      <td>1</td>\n",
       "      <td>35.0</td>\n",
       "      <td>53.1000</td>\n",
       "      <td>0</td>\n",
       "      <td>0</td>\n",
       "      <td>0</td>\n",
       "      <td>1</td>\n",
       "      <td>0</td>\n",
       "      <td>1</td>\n",
       "    </tr>\n",
       "    <tr>\n",
       "      <th>4</th>\n",
       "      <td>0</td>\n",
       "      <td>35.0</td>\n",
       "      <td>8.0500</td>\n",
       "      <td>0</td>\n",
       "      <td>1</td>\n",
       "      <td>0</td>\n",
       "      <td>1</td>\n",
       "      <td>1</td>\n",
       "      <td>0</td>\n",
       "    </tr>\n",
       "  </tbody>\n",
       "</table>\n",
       "</div>"
      ],
      "text/plain": [
       "  Survived   Age     Fare  Pclass_2  Pclass_3  Embarked_Q  Embarked_S  \\\n",
       "0        0  22.0   7.2500         0         1           0           1   \n",
       "1        1  38.0  71.2833         0         0           0           0   \n",
       "2        1  26.0   7.9250         0         1           0           1   \n",
       "3        1  35.0  53.1000         0         0           0           1   \n",
       "4        0  35.0   8.0500         0         1           0           1   \n",
       "\n",
       "   Sex_male  WıthFamıly_True  \n",
       "0         1                1  \n",
       "1         0                1  \n",
       "2         0                0  \n",
       "3         0                1  \n",
       "4         1                0  "
      ]
     },
     "execution_count": 137,
     "metadata": {},
     "output_type": "execute_result"
    }
   ],
   "source": [
    "data1.head(5)"
   ]
  },
  {
   "cell_type": "markdown",
   "id": "54f23702-34ac-466a-8971-2b2ee1d886f6",
   "metadata": {
    "tags": []
   },
   "source": [
    "# Değişken Ölçeklendirme"
   ]
  },
  {
   "cell_type": "code",
   "execution_count": 138,
   "id": "496b9487-b2be-4995-81e3-c3aaa7544a6c",
   "metadata": {},
   "outputs": [],
   "source": [
    "y=data1[\"Survived\"]"
   ]
  },
  {
   "cell_type": "code",
   "execution_count": 139,
   "id": "a86f4172-d604-4053-abc1-da7194cf48a0",
   "metadata": {},
   "outputs": [],
   "source": [
    "data1.drop(\"Survived\", axis=1,inplace=True)"
   ]
  },
  {
   "cell_type": "code",
   "execution_count": 140,
   "id": "1966f875-b675-4e4e-ac89-0b495afc9c86",
   "metadata": {},
   "outputs": [],
   "source": [
    "from sklearn.preprocessing import MinMaxScaler"
   ]
  },
  {
   "cell_type": "code",
   "execution_count": 141,
   "id": "684e15a2-c44b-462c-9321-e8268fbeb391",
   "metadata": {},
   "outputs": [],
   "source": [
    "scaler = MinMaxScaler()\n",
    "data2 = scaler.fit_transform(data1)"
   ]
  },
  {
   "cell_type": "code",
   "execution_count": 142,
   "id": "e812efc0-c22c-406a-a342-c8098570587a",
   "metadata": {},
   "outputs": [
    {
     "data": {
      "text/plain": [
       "numpy.ndarray"
      ]
     },
     "execution_count": 142,
     "metadata": {},
     "output_type": "execute_result"
    }
   ],
   "source": [
    "type(data2)"
   ]
  },
  {
   "cell_type": "code",
   "execution_count": 143,
   "id": "0bad3409-befd-486c-b6bc-c53c98406511",
   "metadata": {},
   "outputs": [],
   "source": [
    "col=data1.columns"
   ]
  },
  {
   "cell_type": "code",
   "execution_count": 144,
   "id": "99ee1dd4-36e9-40dd-8a2a-d998be4dd5e7",
   "metadata": {},
   "outputs": [],
   "source": [
    "data3=pd.DataFrame(data2,columns=col)"
   ]
  },
  {
   "cell_type": "code",
   "execution_count": 145,
   "id": "0fa07f7a-7cf1-4c32-b296-16b66fa8272d",
   "metadata": {
    "tags": []
   },
   "outputs": [
    {
     "data": {
      "text/html": [
       "<div>\n",
       "<style scoped>\n",
       "    .dataframe tbody tr th:only-of-type {\n",
       "        vertical-align: middle;\n",
       "    }\n",
       "\n",
       "    .dataframe tbody tr th {\n",
       "        vertical-align: top;\n",
       "    }\n",
       "\n",
       "    .dataframe thead th {\n",
       "        text-align: right;\n",
       "    }\n",
       "</style>\n",
       "<table border=\"1\" class=\"dataframe\">\n",
       "  <thead>\n",
       "    <tr style=\"text-align: right;\">\n",
       "      <th></th>\n",
       "      <th>Age</th>\n",
       "      <th>Fare</th>\n",
       "      <th>Pclass_2</th>\n",
       "      <th>Pclass_3</th>\n",
       "      <th>Embarked_Q</th>\n",
       "      <th>Embarked_S</th>\n",
       "      <th>Sex_male</th>\n",
       "      <th>WıthFamıly_True</th>\n",
       "    </tr>\n",
       "  </thead>\n",
       "  <tbody>\n",
       "    <tr>\n",
       "      <th>0</th>\n",
       "      <td>0.271174</td>\n",
       "      <td>0.014151</td>\n",
       "      <td>0.0</td>\n",
       "      <td>1.0</td>\n",
       "      <td>0.0</td>\n",
       "      <td>1.0</td>\n",
       "      <td>1.0</td>\n",
       "      <td>1.0</td>\n",
       "    </tr>\n",
       "    <tr>\n",
       "      <th>1</th>\n",
       "      <td>0.472229</td>\n",
       "      <td>0.139136</td>\n",
       "      <td>0.0</td>\n",
       "      <td>0.0</td>\n",
       "      <td>0.0</td>\n",
       "      <td>0.0</td>\n",
       "      <td>0.0</td>\n",
       "      <td>1.0</td>\n",
       "    </tr>\n",
       "    <tr>\n",
       "      <th>2</th>\n",
       "      <td>0.321438</td>\n",
       "      <td>0.015469</td>\n",
       "      <td>0.0</td>\n",
       "      <td>1.0</td>\n",
       "      <td>0.0</td>\n",
       "      <td>1.0</td>\n",
       "      <td>0.0</td>\n",
       "      <td>0.0</td>\n",
       "    </tr>\n",
       "    <tr>\n",
       "      <th>3</th>\n",
       "      <td>0.434531</td>\n",
       "      <td>0.103644</td>\n",
       "      <td>0.0</td>\n",
       "      <td>0.0</td>\n",
       "      <td>0.0</td>\n",
       "      <td>1.0</td>\n",
       "      <td>0.0</td>\n",
       "      <td>1.0</td>\n",
       "    </tr>\n",
       "    <tr>\n",
       "      <th>4</th>\n",
       "      <td>0.434531</td>\n",
       "      <td>0.015713</td>\n",
       "      <td>0.0</td>\n",
       "      <td>1.0</td>\n",
       "      <td>0.0</td>\n",
       "      <td>1.0</td>\n",
       "      <td>1.0</td>\n",
       "      <td>0.0</td>\n",
       "    </tr>\n",
       "    <tr>\n",
       "      <th>...</th>\n",
       "      <td>...</td>\n",
       "      <td>...</td>\n",
       "      <td>...</td>\n",
       "      <td>...</td>\n",
       "      <td>...</td>\n",
       "      <td>...</td>\n",
       "      <td>...</td>\n",
       "      <td>...</td>\n",
       "    </tr>\n",
       "    <tr>\n",
       "      <th>886</th>\n",
       "      <td>0.334004</td>\n",
       "      <td>0.025374</td>\n",
       "      <td>1.0</td>\n",
       "      <td>0.0</td>\n",
       "      <td>0.0</td>\n",
       "      <td>1.0</td>\n",
       "      <td>1.0</td>\n",
       "      <td>0.0</td>\n",
       "    </tr>\n",
       "    <tr>\n",
       "      <th>887</th>\n",
       "      <td>0.233476</td>\n",
       "      <td>0.058556</td>\n",
       "      <td>0.0</td>\n",
       "      <td>0.0</td>\n",
       "      <td>0.0</td>\n",
       "      <td>1.0</td>\n",
       "      <td>0.0</td>\n",
       "      <td>0.0</td>\n",
       "    </tr>\n",
       "    <tr>\n",
       "      <th>888</th>\n",
       "      <td>0.346569</td>\n",
       "      <td>0.045771</td>\n",
       "      <td>0.0</td>\n",
       "      <td>1.0</td>\n",
       "      <td>0.0</td>\n",
       "      <td>1.0</td>\n",
       "      <td>0.0</td>\n",
       "      <td>1.0</td>\n",
       "    </tr>\n",
       "    <tr>\n",
       "      <th>889</th>\n",
       "      <td>0.321438</td>\n",
       "      <td>0.058556</td>\n",
       "      <td>0.0</td>\n",
       "      <td>0.0</td>\n",
       "      <td>0.0</td>\n",
       "      <td>0.0</td>\n",
       "      <td>1.0</td>\n",
       "      <td>0.0</td>\n",
       "    </tr>\n",
       "    <tr>\n",
       "      <th>890</th>\n",
       "      <td>0.396833</td>\n",
       "      <td>0.015127</td>\n",
       "      <td>0.0</td>\n",
       "      <td>1.0</td>\n",
       "      <td>1.0</td>\n",
       "      <td>0.0</td>\n",
       "      <td>1.0</td>\n",
       "      <td>0.0</td>\n",
       "    </tr>\n",
       "  </tbody>\n",
       "</table>\n",
       "<p>891 rows × 8 columns</p>\n",
       "</div>"
      ],
      "text/plain": [
       "          Age      Fare  Pclass_2  Pclass_3  Embarked_Q  Embarked_S  Sex_male  \\\n",
       "0    0.271174  0.014151       0.0       1.0         0.0         1.0       1.0   \n",
       "1    0.472229  0.139136       0.0       0.0         0.0         0.0       0.0   \n",
       "2    0.321438  0.015469       0.0       1.0         0.0         1.0       0.0   \n",
       "3    0.434531  0.103644       0.0       0.0         0.0         1.0       0.0   \n",
       "4    0.434531  0.015713       0.0       1.0         0.0         1.0       1.0   \n",
       "..        ...       ...       ...       ...         ...         ...       ...   \n",
       "886  0.334004  0.025374       1.0       0.0         0.0         1.0       1.0   \n",
       "887  0.233476  0.058556       0.0       0.0         0.0         1.0       0.0   \n",
       "888  0.346569  0.045771       0.0       1.0         0.0         1.0       0.0   \n",
       "889  0.321438  0.058556       0.0       0.0         0.0         0.0       1.0   \n",
       "890  0.396833  0.015127       0.0       1.0         1.0         0.0       1.0   \n",
       "\n",
       "     WıthFamıly_True  \n",
       "0                1.0  \n",
       "1                1.0  \n",
       "2                0.0  \n",
       "3                1.0  \n",
       "4                0.0  \n",
       "..               ...  \n",
       "886              0.0  \n",
       "887              0.0  \n",
       "888              1.0  \n",
       "889              0.0  \n",
       "890              0.0  \n",
       "\n",
       "[891 rows x 8 columns]"
      ]
     },
     "execution_count": 145,
     "metadata": {},
     "output_type": "execute_result"
    }
   ],
   "source": [
    "data3"
   ]
  },
  {
   "cell_type": "code",
   "execution_count": 146,
   "id": "36fad6f3-eb71-4849-84c4-4050ca4a6276",
   "metadata": {},
   "outputs": [
    {
     "data": {
      "text/html": [
       "<div>\n",
       "<style scoped>\n",
       "    .dataframe tbody tr th:only-of-type {\n",
       "        vertical-align: middle;\n",
       "    }\n",
       "\n",
       "    .dataframe tbody tr th {\n",
       "        vertical-align: top;\n",
       "    }\n",
       "\n",
       "    .dataframe thead th {\n",
       "        text-align: right;\n",
       "    }\n",
       "</style>\n",
       "<table border=\"1\" class=\"dataframe\">\n",
       "  <thead>\n",
       "    <tr style=\"text-align: right;\">\n",
       "      <th></th>\n",
       "      <th>Age</th>\n",
       "      <th>Fare</th>\n",
       "      <th>Pclass_2</th>\n",
       "      <th>Pclass_3</th>\n",
       "      <th>Embarked_Q</th>\n",
       "      <th>Embarked_S</th>\n",
       "      <th>Sex_male</th>\n",
       "      <th>WıthFamıly_True</th>\n",
       "    </tr>\n",
       "  </thead>\n",
       "  <tbody>\n",
       "    <tr>\n",
       "      <th>0</th>\n",
       "      <td>22.0</td>\n",
       "      <td>7.2500</td>\n",
       "      <td>0</td>\n",
       "      <td>1</td>\n",
       "      <td>0</td>\n",
       "      <td>1</td>\n",
       "      <td>1</td>\n",
       "      <td>1</td>\n",
       "    </tr>\n",
       "    <tr>\n",
       "      <th>1</th>\n",
       "      <td>38.0</td>\n",
       "      <td>71.2833</td>\n",
       "      <td>0</td>\n",
       "      <td>0</td>\n",
       "      <td>0</td>\n",
       "      <td>0</td>\n",
       "      <td>0</td>\n",
       "      <td>1</td>\n",
       "    </tr>\n",
       "    <tr>\n",
       "      <th>2</th>\n",
       "      <td>26.0</td>\n",
       "      <td>7.9250</td>\n",
       "      <td>0</td>\n",
       "      <td>1</td>\n",
       "      <td>0</td>\n",
       "      <td>1</td>\n",
       "      <td>0</td>\n",
       "      <td>0</td>\n",
       "    </tr>\n",
       "    <tr>\n",
       "      <th>3</th>\n",
       "      <td>35.0</td>\n",
       "      <td>53.1000</td>\n",
       "      <td>0</td>\n",
       "      <td>0</td>\n",
       "      <td>0</td>\n",
       "      <td>1</td>\n",
       "      <td>0</td>\n",
       "      <td>1</td>\n",
       "    </tr>\n",
       "    <tr>\n",
       "      <th>4</th>\n",
       "      <td>35.0</td>\n",
       "      <td>8.0500</td>\n",
       "      <td>0</td>\n",
       "      <td>1</td>\n",
       "      <td>0</td>\n",
       "      <td>1</td>\n",
       "      <td>1</td>\n",
       "      <td>0</td>\n",
       "    </tr>\n",
       "  </tbody>\n",
       "</table>\n",
       "</div>"
      ],
      "text/plain": [
       "    Age     Fare  Pclass_2  Pclass_3  Embarked_Q  Embarked_S  Sex_male  \\\n",
       "0  22.0   7.2500         0         1           0           1         1   \n",
       "1  38.0  71.2833         0         0           0           0         0   \n",
       "2  26.0   7.9250         0         1           0           1         0   \n",
       "3  35.0  53.1000         0         0           0           1         0   \n",
       "4  35.0   8.0500         0         1           0           1         1   \n",
       "\n",
       "   WıthFamıly_True  \n",
       "0                1  \n",
       "1                1  \n",
       "2                0  \n",
       "3                1  \n",
       "4                0  "
      ]
     },
     "execution_count": 146,
     "metadata": {},
     "output_type": "execute_result"
    }
   ],
   "source": [
    "data1.head()"
   ]
  },
  {
   "cell_type": "markdown",
   "id": "9d2a3422-18c2-45ad-b70f-ff898da980b0",
   "metadata": {
    "tags": []
   },
   "source": [
    "# Train-Test Split"
   ]
  },
  {
   "cell_type": "code",
   "execution_count": 147,
   "id": "310c1b00-102e-46e5-ad71-9e3166cff6e6",
   "metadata": {},
   "outputs": [],
   "source": [
    "from sklearn.model_selection import train_test_split"
   ]
  },
  {
   "cell_type": "code",
   "execution_count": 148,
   "id": "08dbbb91-8ea4-45cf-bc26-84a236d2796a",
   "metadata": {},
   "outputs": [],
   "source": [
    "X_train, X_test, y_train, y_test = train_test_split(data3, y, test_size=0.33, random_state=2)"
   ]
  },
  {
   "cell_type": "code",
   "execution_count": 149,
   "id": "1673dcae-76e6-4d32-8c2b-3118ec626ed0",
   "metadata": {},
   "outputs": [
    {
     "data": {
      "text/plain": [
       "(596, 8)"
      ]
     },
     "execution_count": 149,
     "metadata": {},
     "output_type": "execute_result"
    }
   ],
   "source": [
    "X_train.shape"
   ]
  },
  {
   "cell_type": "code",
   "execution_count": 150,
   "id": "81830636-f6bb-4b5e-9020-fb4dcc5c2677",
   "metadata": {},
   "outputs": [
    {
     "data": {
      "text/plain": [
       "(295, 8)"
      ]
     },
     "execution_count": 150,
     "metadata": {},
     "output_type": "execute_result"
    }
   ],
   "source": [
    "X_test.shape"
   ]
  },
  {
   "cell_type": "code",
   "execution_count": 151,
   "id": "ba416bea-83c1-4cd0-90c0-4ec1f6a2a86e",
   "metadata": {},
   "outputs": [
    {
     "data": {
      "text/plain": [
       "(596,)"
      ]
     },
     "execution_count": 151,
     "metadata": {},
     "output_type": "execute_result"
    }
   ],
   "source": [
    "y_train.shape"
   ]
  },
  {
   "cell_type": "code",
   "execution_count": 152,
   "id": "ebb7a885-ff7f-4956-ab3a-6294c2599516",
   "metadata": {},
   "outputs": [
    {
     "data": {
      "text/plain": [
       "(295,)"
      ]
     },
     "execution_count": 152,
     "metadata": {},
     "output_type": "execute_result"
    }
   ],
   "source": [
    "y_test.shape"
   ]
  },
  {
   "cell_type": "markdown",
   "id": "064820e3-b8b1-4ed6-8fae-1994942d826e",
   "metadata": {},
   "source": [
    "# Model SVM Optimizasyon"
   ]
  },
  {
   "cell_type": "markdown",
   "id": "742fbe6c-27c3-44d0-b6ac-1c86752223ed",
   "metadata": {},
   "source": [
    "Hyperparametreler;\n",
    "\n",
    "**C**, düzenleştirme parametresi\n",
    "\n",
    "**kernel**, Algoritmada kullanılacak çekirdek türünü belirtir.\n",
    "\n",
    "**gamma**, 'rbf', 'poli' ve 'sigmoid' için çekirdek katsayısı\n",
    "\n",
    "**shrinking** , Küçülen buluşsal yöntemin global min noktasını bulmak için\n"
   ]
  },
  {
   "cell_type": "code",
   "execution_count": 153,
   "id": "3d538360-7100-40fb-b8a3-6f3f60fd688c",
   "metadata": {},
   "outputs": [],
   "source": [
    "from sklearn.svm import SVC\n",
    "from sklearn.metrics import accuracy_score, classification_report,confusion_matrix\n",
    "from sklearn.model_selection import GridSearchCV"
   ]
  },
  {
   "cell_type": "code",
   "execution_count": 154,
   "id": "f4516385-0aca-424d-863b-03893ac8d887",
   "metadata": {},
   "outputs": [],
   "source": [
    "svm=SVC()"
   ]
  },
  {
   "cell_type": "code",
   "execution_count": 155,
   "id": "fbb147a4-5f89-4526-8634-271b0fd83d6c",
   "metadata": {
    "tags": []
   },
   "outputs": [],
   "source": [
    "svm_params={\"C\":np.arange(1,10), \"kernel\":[\"poly\",\"sigmoid\",\"rbf\"], 'gamma':['scale', 'auto'], \"shrinking\":(0.01,0.05)}"
   ]
  },
  {
   "cell_type": "code",
   "execution_count": 156,
   "id": "c777e977-f0bd-48f3-9650-63dcd8ec8544",
   "metadata": {
    "tags": []
   },
   "outputs": [],
   "source": [
    "svmodel=GridSearchCV(svm, \n",
    "                     cv = 5,\n",
    "                     param_grid=svm_params, \n",
    "                     ).fit(X_train,y_train)"
   ]
  },
  {
   "cell_type": "code",
   "execution_count": 157,
   "id": "c98f45ab-d8db-4caa-8b5c-db043ac13075",
   "metadata": {
    "tags": []
   },
   "outputs": [
    {
     "data": {
      "text/plain": [
       "{'C': 9, 'gamma': 'scale', 'kernel': 'poly', 'shrinking': 0.01}"
      ]
     },
     "execution_count": 157,
     "metadata": {},
     "output_type": "execute_result"
    }
   ],
   "source": [
    "svmodel.best_params_"
   ]
  },
  {
   "cell_type": "code",
   "execution_count": 158,
   "id": "09fd5c66-b088-440c-bb5f-4e027dcb07a0",
   "metadata": {},
   "outputs": [
    {
     "data": {
      "text/plain": [
       "0.827156862745098"
      ]
     },
     "execution_count": 158,
     "metadata": {},
     "output_type": "execute_result"
    }
   ],
   "source": [
    "svmodel.best_score_"
   ]
  },
  {
   "cell_type": "code",
   "execution_count": 159,
   "id": "2ff3595c-6b58-4180-9438-fe4f5fc9afba",
   "metadata": {},
   "outputs": [],
   "source": [
    "svm_new=SVC(C=9, gamma = \"scale\", kernel= \"poly\" , shrinking = 0.01,random_state=42).fit(X_train,y_train)"
   ]
  },
  {
   "cell_type": "code",
   "execution_count": 160,
   "id": "adf5b3f1-9d3d-4995-8d39-9f6f60e1decd",
   "metadata": {},
   "outputs": [],
   "source": [
    "y_pred=svm_new.predict(X_test)"
   ]
  },
  {
   "cell_type": "code",
   "execution_count": 161,
   "id": "97ec844b-824e-488d-b32a-de3ce402450f",
   "metadata": {},
   "outputs": [
    {
     "data": {
      "image/png": "[encoded data removed]",
      "text/plain": [
       "<Figure size 432x288 with 2 Axes>"
      ]
     },
     "metadata": {
      "needs_background": "light"
     },
     "output_type": "display_data"
    }
   ],
   "source": [
    "cm1 = confusion_matrix(y_test, y_pred)\n",
    "sns.heatmap(cm1, annot=True, fmt=\".0f\")\n",
    "plt.xlabel('Predicted Values')\n",
    "plt.ylabel('Actual Values')\n",
    "plt.show()"
   ]
  },
  {
   "cell_type": "code",
   "execution_count": 162,
   "id": "8f5d7b93-631d-403f-9248-465ab918e64f",
   "metadata": {},
   "outputs": [
    {
     "data": {
      "text/plain": [
       "0.8033898305084746"
      ]
     },
     "execution_count": 162,
     "metadata": {},
     "output_type": "execute_result"
    }
   ],
   "source": [
    "accuracy_score(y_test, y_pred)"
   ]
  },
  {
   "cell_type": "code",
   "execution_count": 163,
   "id": "f33492f8-37ae-49de-b4cb-ee38290ad899",
   "metadata": {},
   "outputs": [
    {
     "name": "stdout",
     "output_type": "stream",
     "text": [
      "              precision    recall  f1-score   support\n",
      "\n",
      "           0       0.77      0.95      0.85       175\n",
      "           1       0.90      0.58      0.71       120\n",
      "\n",
      "    accuracy                           0.80       295\n",
      "   macro avg       0.83      0.77      0.78       295\n",
      "weighted avg       0.82      0.80      0.79       295\n",
      "\n"
     ]
    }
   ],
   "source": [
    "print(classification_report(y_test, y_pred))"
   ]
  },
  {
   "cell_type": "code",
   "execution_count": null,
   "id": "b3acb433-0e35-4bf2-bdba-061d0c51a45c",
   "metadata": {},
   "outputs": [],
   "source": []
  }
 ],
 "metadata": {
  "kernelspec": {
   "display_name": "Python 3",
   "language": "python",
   "name": "python3"
  },
  "language_info": {
   "codemirror_mode": {
    "name": "ipython",
    "version": 3
   },
   "file_extension": ".py",
   "mimetype": "text/x-python",
   "name": "python",
   "nbconvert_exporter": "python",
   "pygments_lexer": "ipython3",
   "version": "3.7.11"
  }
 },
 "nbformat": 4,
 "nbformat_minor": 5
}
